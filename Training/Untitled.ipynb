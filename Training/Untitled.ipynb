{
 "cells": [
  {
   "cell_type": "code",
   "execution_count": 1,
   "metadata": {
    "scrolled": true
   },
   "outputs": [],
   "source": [
    "import torchvision\n",
    "import torch\n",
    "from torchvision.models.detection.faster_rcnn import FastRCNNPredictor\n",
    "from torchvision.models.detection.mask_rcnn import MaskRCNNPredictor\n",
    "from mask_utils.engine import train_one_epoch, evaluate\n",
    "import os\n",
    "import numpy as np\n",
    "import torch\n",
    "from PIL import Image\n",
    "import mask_utils.transforms as T\n",
    "import mask_utils.utils as utils\n",
    "import cv2"
   ]
  },
  {
   "cell_type": "code",
   "execution_count": 3,
   "metadata": {
    "scrolled": true
   },
   "outputs": [],
   "source": [
    "\n",
    "class PennFudanDataset(object):\n",
    "    def __init__(self, root, transforms):\n",
    "        self.root = root\n",
    "        self.transforms = transforms\n",
    "        # load all image files, sorting them to\n",
    "        # ensure that they are aligned\n",
    "        self.imgs = list(sorted(os.listdir(os.path.join(root, \"images\"))))\n",
    "        self.masks = list(sorted(os.listdir(os.path.join(root, \"labels\"))))\n",
    "        print (self.imgs[-5:])\n",
    "\n",
    "    def __getitem__(self, idx):\n",
    "        # load images ad masks\n",
    "        img_path = os.path.join(self.root, \"images\", self.imgs[idx])\n",
    "        mask_path = os.path.join(self.root, \"labels\", self.masks[idx])\n",
    "        img = Image.open(img_path).convert(\"RGB\")\n",
    "        # note that we haven't converted the mask to RGB,\n",
    "        # because each color corresponds to a different instance\n",
    "        # with 0 being background\n",
    "        mask = Image.open(mask_path).convert(\"LA\")\n",
    "        mask = cv2.imread(mask_path,0)\n",
    "        # convert the PIL Image into a numpy array\n",
    "        mask = np.array(mask) \n",
    "        # instances are encoded as different colors\n",
    "        obj_ids = np.unique(mask)\n",
    "        # first id is the background, so remove it\n",
    "        obj_ids = obj_ids[1:] \n",
    "        # split the color-encoded mask into a set\n",
    "        # of binary masks\n",
    "        masks = mask == obj_ids[:, None, None]  \n",
    "        \n",
    "        # get bounding box coordinates for each mask\n",
    "        num_objs = len(obj_ids)\n",
    "        boxes = []\n",
    "        for i in range(num_objs):\n",
    "            pos = np.where(masks[i])\n",
    "            xmin = np.min(pos[1])\n",
    "            xmax = np.max(pos[1])\n",
    "            ymin = np.min(pos[0])\n",
    "            ymax = np.max(pos[0])\n",
    "            boxes.append([xmin, ymin, xmax, ymax])\n",
    "\n",
    "        # convert everything into a torch.Tensor\n",
    "        boxes = torch.as_tensor(boxes, dtype=torch.float32)\n",
    "        # there is only one class\n",
    "        labels = torch.ones((num_objs,), dtype=torch.int64)\n",
    "        masks = torch.as_tensor(masks, dtype=torch.uint8)\n",
    "\n",
    "        image_id = torch.tensor([idx])\n",
    "        area = (boxes[:, 3] - boxes[:, 1]) * (boxes[:, 2] - boxes[:, 0])\n",
    "        # suppose all instances are not crowd\n",
    "        iscrowd = torch.zeros((num_objs,), dtype=torch.int64)\n",
    "       \n",
    "        target = {}\n",
    "        target[\"boxes\"] = boxes\n",
    "        target[\"labels\"] = labels\n",
    "        target[\"masks\"] = masks\n",
    "        target[\"image_id\"] = image_id\n",
    "        target[\"area\"] = area\n",
    "        target[\"iscrowd\"] = iscrowd\n",
    "\n",
    "        if self.transforms is not None:\n",
    "            img, target = self.transforms(img, target)\n",
    "       \n",
    "\n",
    "        return img, target\n",
    "\n",
    "    def __len__(self):\n",
    "        return len(self.imgs)"
   ]
  },
  {
   "cell_type": "code",
   "execution_count": 4,
   "metadata": {
    "scrolled": true
   },
   "outputs": [],
   "source": [
    "def get_model_instance_segmentation(num_classes):\n",
    "    # load an instance segmentation model pre-trained pre-trained on COCO\n",
    "    model = torchvision.models.detection.maskrcnn_resnet50_fpn(pretrained=True, box_detections_per_img = 350)\n",
    "\n",
    "    # get number of input features for the classifier\n",
    "    in_features = model.roi_heads.box_predictor.cls_score.in_features\n",
    "    # replace the pre-trained head with a new one\n",
    "    model.roi_heads.box_predictor = FastRCNNPredictor(in_features, num_classes)\n",
    "\n",
    "    # now get the number of input features for the mask classifier\n",
    "    in_features_mask = model.roi_heads.mask_predictor.conv5_mask.in_channels\n",
    "    hidden_layer = 256\n",
    "    # and replace the mask predictor with a new one\n",
    "    model.roi_heads.mask_predictor = MaskRCNNPredictor(in_features_mask,\n",
    "                                                       hidden_layer,\n",
    "                                                       num_classes)\n",
    "\n",
    "    return model\n",
    "\n",
    "def get_transform(train):\n",
    "    transforms = []\n",
    "    transforms.append(T.ToTensor())\n",
    "    if train:\n",
    "        transforms.append(T.RandomHorizontalFlip(0.5))\n",
    "    return T.Compose(transforms)"
   ]
  },
  {
   "cell_type": "code",
   "execution_count": 12,
   "metadata": {
    "scrolled": true
   },
   "outputs": [],
   "source": [
    "def main():\n",
    "    # train on the GPU or on the CPU, if a GPU is not available\n",
    "    device = torch.device('cuda') if torch.cuda.is_available() else torch.device('cpu')\n",
    "\n",
    "    # our dataset has two classes only - background and person\n",
    "    num_classes = 2\n",
    "    # use our dataset and defined transformations\n",
    "    dataset = PennFudanDataset('dataset/cells', get_transform(train=True))\n",
    "    dataset_test = PennFudanDataset('dataset/cells', get_transform(train=False))\n",
    "\n",
    "    # split the dataset in train and test set\n",
    "#     indices = torch.randperm(len(dataset)).tolist()\n",
    "    indices = torch.arange(len(dataset)).tolist()\n",
    "    print (len(indices))\n",
    "    dataset = torch.utils.data.Subset(dataset, indices[:2]+indices[7:])\n",
    "    dataset_test = torch.utils.data.Subset(dataset_test, indices[2:7])\n",
    "    print (len(dataset),len(dataset_test))\n",
    "    # define training and validation data loaders\n",
    "    data_loader = torch.utils.data.DataLoader(\n",
    "        dataset, batch_size=2, shuffle=True, num_workers=4,\n",
    "        collate_fn=utils.collate_fn)\n",
    "\n",
    "    data_loader_test = torch.utils.data.DataLoader(\n",
    "        dataset_test, batch_size=1, shuffle=False, num_workers=4,\n",
    "        collate_fn=utils.collate_fn)\n",
    "\n",
    "    # get the model using our helper function\n",
    "    model = get_model_instance_segmentation(num_classes) \n",
    "    # move model to the right device\n",
    "    model.to(device)\n",
    "\n",
    "    # construct an optimizer\n",
    "    params = [p for p in model.parameters() if p.requires_grad]\n",
    "    optimizer = torch.optim.SGD(params, lr=0.005,\n",
    "                                momentum=0.9, weight_decay=0.0005)\n",
    "    # and a learning rate scheduler\n",
    "    lr_scheduler = torch.optim.lr_scheduler.StepLR(optimizer,\n",
    "                                                   step_size=5,\n",
    "                                                   gamma=0.05)\n",
    "\n",
    "    # let's train it for 10 epochs\n",
    "    num_epochs = 10\n",
    "#     model.load_state_dict(torch.load(\"checkpoints/8_epoch.pt\"))\n",
    "    for epoch in range(num_epochs):\n",
    "        # train for one epoch, printing every 10 iterations\n",
    "        train_one_epoch(model, optimizer, data_loader, device, epoch, print_freq=5)\n",
    "        # update the learning rate\n",
    "        lr_scheduler.step()\n",
    "        # evaluate on the test dataset\n",
    "        if (epoch+2) % 5 == 0:\n",
    "            evaluate(model, data_loader_test, device=device)\n",
    "            path = \"checkpoints/\"+str(epoch)+\"_epoch.pt\"\n",
    "            torch.save(model.state_dict(), path)\n",
    "    return model, data_loader_test,data_loader\n",
    "    print(\"That's it!\")"
   ]
  },
  {
   "cell_type": "code",
   "execution_count": 13,
   "metadata": {
    "scrolled": false
   },
   "outputs": [
    {
     "name": "stdout",
     "output_type": "stream",
     "text": [
      "['51.png', '6.png', '7.png', '8.png', '9.png']\n",
      "['51.png', '6.png', '7.png', '8.png', '9.png']\n",
      "50\n",
      "45 5\n",
      "Epoch: [0]  [ 0/23]  eta: 0:01:42  lr: 0.000232  loss: 7.4264 (7.4264)  loss_classifier: 0.5887 (0.5887)  loss_box_reg: 0.5029 (0.5029)  loss_mask: 2.0928 (2.0928)  loss_objectness: 3.9932 (3.9932)  loss_rpn_box_reg: 0.2487 (0.2487)  time: 4.4573  data: 3.8054  max mem: 4080\n",
      "Epoch: [0]  [ 5/23]  eta: 0:00:19  lr: 0.001367  loss: 3.2471 (4.7476)  loss_classifier: 0.5775 (0.5768)  loss_box_reg: 0.5064 (0.5186)  loss_mask: 1.4535 (1.6913)  loss_objectness: 0.3267 (1.6723)  loss_rpn_box_reg: 0.2613 (0.2886)  time: 1.1110  data: 0.6549  max mem: 4418\n",
      "Epoch: [0]  [10/23]  eta: 0:00:14  lr: 0.002502  loss: 2.5257 (3.5643)  loss_classifier: 0.5371 (0.5471)  loss_box_reg: 0.5029 (0.5094)  loss_mask: 0.9566 (1.2064)  loss_objectness: 0.2805 (1.0151)  loss_rpn_box_reg: 0.2927 (0.2863)  time: 1.0800  data: 0.5980  max mem: 4418\n",
      "Epoch: [0]  [15/23]  eta: 0:00:06  lr: 0.003638  loss: 2.0273 (3.0252)  loss_classifier: 0.5064 (0.5220)  loss_box_reg: 0.4963 (0.4993)  loss_mask: 0.5846 (0.9595)  loss_objectness: 0.2202 (0.7522)  loss_rpn_box_reg: 0.2664 (0.2922)  time: 0.8744  data: 0.4196  max mem: 4432\n",
      "Epoch: [0]  [20/23]  eta: 0:00:02  lr: 0.004773  loss: 1.9171 (2.7003)  loss_classifier: 0.4830 (0.4914)  loss_box_reg: 0.4835 (0.4760)  loss_mask: 0.4361 (0.8237)  loss_objectness: 0.2071 (0.6161)  loss_rpn_box_reg: 0.2927 (0.2931)  time: 0.7595  data: 0.3106  max mem: 4432\n",
      "Epoch: [0]  [22/23]  eta: 0:00:00  lr: 0.005000  loss: 1.8040 (2.5841)  loss_classifier: 0.4678 (0.4798)  loss_box_reg: 0.4720 (0.4673)  loss_mask: 0.4195 (0.7813)  loss_objectness: 0.1875 (0.5725)  loss_rpn_box_reg: 0.2664 (0.2831)  time: 0.7491  data: 0.3097  max mem: 4432\n",
      "Epoch: [0] Total time: 0:00:20 (0.8825 s / it)\n",
      "Epoch: [1]  [ 0/23]  eta: 0:01:41  lr: 0.005000  loss: 1.9305 (1.9305)  loss_classifier: 0.4117 (0.4117)  loss_box_reg: 0.3298 (0.3298)  loss_mask: 0.3693 (0.3693)  loss_objectness: 0.4991 (0.4991)  loss_rpn_box_reg: 0.3206 (0.3206)  time: 4.4268  data: 3.8090  max mem: 4432\n",
      "Epoch: [1]  [ 5/23]  eta: 0:00:27  lr: 0.005000  loss: 1.4079 (1.5511)  loss_classifier: 0.3412 (0.3622)  loss_box_reg: 0.3226 (0.3318)  loss_mask: 0.3291 (0.3387)  loss_objectness: 0.1672 (0.2243)  loss_rpn_box_reg: 0.2628 (0.2941)  time: 1.5088  data: 0.8544  max mem: 4432\n",
      "Epoch: [1]  [10/23]  eta: 0:00:14  lr: 0.005000  loss: 1.3953 (1.4533)  loss_classifier: 0.3323 (0.3429)  loss_box_reg: 0.2934 (0.3028)  loss_mask: 0.3099 (0.3193)  loss_objectness: 0.1626 (0.1913)  loss_rpn_box_reg: 0.2628 (0.2970)  time: 1.1359  data: 0.5388  max mem: 4432\n",
      "Epoch: [1]  [15/23]  eta: 0:00:08  lr: 0.005000  loss: 1.3616 (1.3822)  loss_classifier: 0.3279 (0.3335)  loss_box_reg: 0.2790 (0.2869)  loss_mask: 0.3094 (0.3113)  loss_objectness: 0.1535 (0.1698)  loss_rpn_box_reg: 0.2628 (0.2807)  time: 1.0288  data: 0.4728  max mem: 4432\n",
      "Epoch: [1]  [20/23]  eta: 0:00:02  lr: 0.005000  loss: 1.2777 (1.2943)  loss_classifier: 0.3195 (0.3154)  loss_box_reg: 0.2696 (0.2694)  loss_mask: 0.2955 (0.3001)  loss_objectness: 0.1356 (0.1495)  loss_rpn_box_reg: 0.2506 (0.2599)  time: 0.7829  data: 0.2731  max mem: 4432\n",
      "Epoch: [1]  [22/23]  eta: 0:00:00  lr: 0.005000  loss: 1.2370 (1.2959)  loss_classifier: 0.3116 (0.3125)  loss_box_reg: 0.2442 (0.2657)  loss_mask: 0.2869 (0.2990)  loss_objectness: 0.1293 (0.1520)  loss_rpn_box_reg: 0.2523 (0.2667)  time: 0.7778  data: 0.2891  max mem: 4432\n",
      "Epoch: [1] Total time: 0:00:22 (0.9694 s / it)\n",
      "Epoch: [2]  [ 0/23]  eta: 0:01:14  lr: 0.005000  loss: 1.0918 (1.0918)  loss_classifier: 0.2637 (0.2637)  loss_box_reg: 0.1909 (0.1909)  loss_mask: 0.2627 (0.2627)  loss_objectness: 0.0914 (0.0914)  loss_rpn_box_reg: 0.2832 (0.2832)  time: 3.2400  data: 2.8354  max mem: 4432\n",
      "Epoch: [2]  [ 5/23]  eta: 0:00:26  lr: 0.005000  loss: 1.0918 (1.0742)  loss_classifier: 0.2637 (0.2932)  loss_box_reg: 0.1909 (0.2189)  loss_mask: 0.2627 (0.2641)  loss_objectness: 0.0883 (0.0872)  loss_rpn_box_reg: 0.2081 (0.2107)  time: 1.4921  data: 1.0982  max mem: 4432\n",
      "Epoch: [2]  [10/23]  eta: 0:00:13  lr: 0.005000  loss: 0.9959 (1.0157)  loss_classifier: 0.2287 (0.2612)  loss_box_reg: 0.1909 (0.2062)  loss_mask: 0.2627 (0.2631)  loss_objectness: 0.0733 (0.0720)  loss_rpn_box_reg: 0.2257 (0.2133)  time: 1.0197  data: 0.6308  max mem: 4432\n",
      "Epoch: [2]  [15/23]  eta: 0:00:09  lr: 0.005000  loss: 0.9959 (1.0395)  loss_classifier: 0.2421 (0.2600)  loss_box_reg: 0.1987 (0.2052)  loss_mask: 0.2634 (0.2679)  loss_objectness: 0.0708 (0.0734)  loss_rpn_box_reg: 0.2257 (0.2330)  time: 1.2239  data: 0.8259  max mem: 4444\n",
      "Epoch: [2]  [20/23]  eta: 0:00:03  lr: 0.005000  loss: 0.9959 (1.0374)  loss_classifier: 0.2421 (0.2570)  loss_box_reg: 0.2029 (0.2084)  loss_mask: 0.2678 (0.2714)  loss_objectness: 0.0680 (0.0729)  loss_rpn_box_reg: 0.2200 (0.2277)  time: 1.0211  data: 0.6009  max mem: 4444\n",
      "Epoch: [2]  [22/23]  eta: 0:00:01  lr: 0.005000  loss: 1.0052 (1.0464)  loss_classifier: 0.2421 (0.2563)  loss_box_reg: 0.2058 (0.2113)  loss_mask: 0.2720 (0.2750)  loss_objectness: 0.0680 (0.0734)  loss_rpn_box_reg: 0.2257 (0.2304)  time: 1.0302  data: 0.6008  max mem: 4444\n",
      "Epoch: [2] Total time: 0:00:24 (1.0729 s / it)\n",
      "Epoch: [3]  [ 0/23]  eta: 0:02:20  lr: 0.005000  loss: 1.1030 (1.1030)  loss_classifier: 0.2560 (0.2560)  loss_box_reg: 0.2040 (0.2040)  loss_mask: 0.2672 (0.2672)  loss_objectness: 0.0824 (0.0824)  loss_rpn_box_reg: 0.2933 (0.2933)  time: 6.1288  data: 5.7310  max mem: 4444\n",
      "Epoch: [3]  [ 5/23]  eta: 0:00:33  lr: 0.005000  loss: 0.8197 (0.9180)  loss_classifier: 0.1742 (0.2153)  loss_box_reg: 0.1750 (0.1806)  loss_mask: 0.2450 (0.2529)  loss_objectness: 0.0368 (0.0474)  loss_rpn_box_reg: 0.1445 (0.2219)  time: 1.8539  data: 1.4652  max mem: 4444\n",
      "Epoch: [3]  [10/23]  eta: 0:00:15  lr: 0.005000  loss: 0.8847 (0.8904)  loss_classifier: 0.2055 (0.2112)  loss_box_reg: 0.1750 (0.1752)  loss_mask: 0.2535 (0.2528)  loss_objectness: 0.0368 (0.0439)  loss_rpn_box_reg: 0.1657 (0.2073)  time: 1.1935  data: 0.8065  max mem: 4444\n",
      "Epoch: [3]  [15/23]  eta: 0:00:07  lr: 0.005000  loss: 0.8847 (0.9162)  loss_classifier: 0.2096 (0.2118)  loss_box_reg: 0.1750 (0.1788)  loss_mask: 0.2535 (0.2577)  loss_objectness: 0.0454 (0.0518)  loss_rpn_box_reg: 0.1693 (0.2161)  time: 0.9453  data: 0.5599  max mem: 4444\n",
      "Epoch: [3]  [20/23]  eta: 0:00:02  lr: 0.005000  loss: 0.9186 (0.9322)  loss_classifier: 0.2100 (0.2178)  loss_box_reg: 0.1780 (0.1828)  loss_mask: 0.2461 (0.2589)  loss_objectness: 0.0454 (0.0535)  loss_rpn_box_reg: 0.2069 (0.2192)  time: 0.6947  data: 0.3102  max mem: 4444\n",
      "Epoch: [3]  [22/23]  eta: 0:00:00  lr: 0.005000  loss: 0.9671 (0.9495)  loss_classifier: 0.2239 (0.2238)  loss_box_reg: 0.1876 (0.1891)  loss_mask: 0.2640 (0.2636)  loss_objectness: 0.0456 (0.0539)  loss_rpn_box_reg: 0.2153 (0.2192)  time: 0.6871  data: 0.3106  max mem: 4444\n",
      "Epoch: [3] Total time: 0:00:20 (0.8998 s / it)\n",
      "creating index...\n",
      "index created!\n",
      "Test:  [0/5]  eta: 0:00:06  model_time: 0.2553 (0.2553)  evaluator_time: 0.5926 (0.5926)  time: 1.3034  data: 0.4218  max mem: 4444\n",
      "Test:  [4/5]  eta: 0:00:00  model_time: 0.2553 (0.2455)  evaluator_time: 0.5926 (0.6257)  time: 0.9997  data: 0.0905  max mem: 4444\n",
      "Test: Total time: 0:00:05 (1.0055 s / it)\n",
      "Averaged stats: model_time: 0.2553 (0.2455)  evaluator_time: 0.5926 (0.6257)\n",
      "Accumulating evaluation results...\n",
      "DONE (t=0.01s).\n",
      "Accumulating evaluation results...\n",
      "DONE (t=0.01s).\n",
      "IoU metric: bbox\n",
      " Average Precision  (AP) @[ IoU=0.50      | area=   all | maxDets=500 ] = 0.831\n",
      " Average Recall     (AR) @[ IoU=0.50      | area=   all | maxDets=500 ] = 0.890\n",
      "IoU metric: segm\n",
      " Average Precision  (AP) @[ IoU=0.50      | area=   all | maxDets=500 ] = 0.860\n",
      " Average Recall     (AR) @[ IoU=0.50      | area=   all | maxDets=500 ] = 0.906\n",
      "Epoch: [4]  [ 0/23]  eta: 0:00:26  lr: 0.005000  loss: 1.0908 (1.0908)  loss_classifier: 0.2617 (0.2617)  loss_box_reg: 0.2333 (0.2333)  loss_mask: 0.3117 (0.3117)  loss_objectness: 0.0412 (0.0412)  loss_rpn_box_reg: 0.2429 (0.2429)  time: 1.1402  data: 0.7523  max mem: 4444\n",
      "Epoch: [4]  [ 5/23]  eta: 0:00:22  lr: 0.005000  loss: 0.9458 (0.9557)  loss_classifier: 0.2234 (0.2457)  loss_box_reg: 0.1927 (0.1952)  loss_mask: 0.2607 (0.2694)  loss_objectness: 0.0412 (0.0455)  loss_rpn_box_reg: 0.2028 (0.2001)  time: 1.2593  data: 0.8734  max mem: 4444\n"
     ]
    },
    {
     "name": "stdout",
     "output_type": "stream",
     "text": [
      "Epoch: [4]  [10/23]  eta: 0:00:13  lr: 0.005000  loss: 0.9025 (0.9218)  loss_classifier: 0.2110 (0.2241)  loss_box_reg: 0.1831 (0.1867)  loss_mask: 0.2607 (0.2653)  loss_objectness: 0.0412 (0.0428)  loss_rpn_box_reg: 0.2028 (0.2029)  time: 1.0070  data: 0.6188  max mem: 4444\n",
      "Epoch: [4]  [15/23]  eta: 0:00:07  lr: 0.005000  loss: 0.8585 (0.8903)  loss_classifier: 0.1956 (0.2096)  loss_box_reg: 0.1800 (0.1733)  loss_mask: 0.2496 (0.2586)  loss_objectness: 0.0402 (0.0430)  loss_rpn_box_reg: 0.1952 (0.2058)  time: 0.9674  data: 0.5808  max mem: 4444\n",
      "Epoch: [4]  [20/23]  eta: 0:00:02  lr: 0.005000  loss: 0.8580 (0.8767)  loss_classifier: 0.1956 (0.2061)  loss_box_reg: 0.1658 (0.1714)  loss_mask: 0.2496 (0.2576)  loss_objectness: 0.0393 (0.0409)  loss_rpn_box_reg: 0.1930 (0.2006)  time: 0.8605  data: 0.4751  max mem: 4444\n",
      "Epoch: [4]  [22/23]  eta: 0:00:00  lr: 0.005000  loss: 0.8580 (0.8925)  loss_classifier: 0.1947 (0.2098)  loss_box_reg: 0.1658 (0.1747)  loss_mask: 0.2548 (0.2599)  loss_objectness: 0.0392 (0.0426)  loss_rpn_box_reg: 0.1952 (0.2055)  time: 0.7064  data: 0.3302  max mem: 4444\n",
      "Epoch: [4] Total time: 0:00:19 (0.8268 s / it)\n",
      "Epoch: [5]  [ 0/23]  eta: 0:00:50  lr: 0.000250  loss: 0.7680 (0.7680)  loss_classifier: 0.1671 (0.1671)  loss_box_reg: 0.1518 (0.1518)  loss_mask: 0.2383 (0.2383)  loss_objectness: 0.0367 (0.0367)  loss_rpn_box_reg: 0.1741 (0.1741)  time: 2.2008  data: 1.8171  max mem: 4444\n",
      "Epoch: [5]  [ 5/23]  eta: 0:00:24  lr: 0.000250  loss: 0.7680 (0.8165)  loss_classifier: 0.1671 (0.1752)  loss_box_reg: 0.1454 (0.1561)  loss_mask: 0.2383 (0.2520)  loss_objectness: 0.0367 (0.0386)  loss_rpn_box_reg: 0.1669 (0.1947)  time: 1.3508  data: 0.9511  max mem: 4444\n",
      "Epoch: [5]  [10/23]  eta: 0:00:16  lr: 0.000250  loss: 0.9191 (0.9010)  loss_classifier: 0.2169 (0.1997)  loss_box_reg: 0.1751 (0.1705)  loss_mask: 0.2571 (0.2579)  loss_objectness: 0.0468 (0.0424)  loss_rpn_box_reg: 0.1908 (0.2305)  time: 1.2819  data: 0.8838  max mem: 4444\n",
      "Epoch: [5]  [15/23]  eta: 0:00:10  lr: 0.000250  loss: 0.8986 (0.8991)  loss_classifier: 0.2169 (0.2050)  loss_box_reg: 0.1751 (0.1724)  loss_mask: 0.2571 (0.2565)  loss_objectness: 0.0429 (0.0474)  loss_rpn_box_reg: 0.1887 (0.2178)  time: 1.3563  data: 0.9082  max mem: 4444\n",
      "Epoch: [5]  [20/23]  eta: 0:00:03  lr: 0.000250  loss: 0.8691 (0.8524)  loss_classifier: 0.1916 (0.1966)  loss_box_reg: 0.1515 (0.1615)  loss_mask: 0.2571 (0.2516)  loss_objectness: 0.0408 (0.0431)  loss_rpn_box_reg: 0.1822 (0.1995)  time: 1.1088  data: 0.6395  max mem: 4444\n",
      "Epoch: [5]  [22/23]  eta: 0:00:01  lr: 0.000250  loss: 0.8986 (0.8521)  loss_classifier: 0.2088 (0.1975)  loss_box_reg: 0.1731 (0.1631)  loss_mask: 0.2611 (0.2525)  loss_objectness: 0.0429 (0.0427)  loss_rpn_box_reg: 0.1887 (0.1963)  time: 1.0329  data: 0.5532  max mem: 4444\n",
      "Epoch: [5] Total time: 0:00:25 (1.1077 s / it)\n",
      "Epoch: [6]  [ 0/23]  eta: 0:01:10  lr: 0.000250  loss: 0.8664 (0.8664)  loss_classifier: 0.1803 (0.1803)  loss_box_reg: 0.1858 (0.1858)  loss_mask: 0.2769 (0.2769)  loss_objectness: 0.0460 (0.0460)  loss_rpn_box_reg: 0.1775 (0.1775)  time: 3.0806  data: 2.4286  max mem: 4444\n",
      "Epoch: [6]  [ 5/23]  eta: 0:00:17  lr: 0.000250  loss: 0.7426 (0.7170)  loss_classifier: 0.1614 (0.1670)  loss_box_reg: 0.1094 (0.1326)  loss_mask: 0.2141 (0.2294)  loss_objectness: 0.0276 (0.0329)  loss_rpn_box_reg: 0.1464 (0.1552)  time: 0.9982  data: 0.4187  max mem: 4444\n",
      "Epoch: [6]  [10/23]  eta: 0:00:13  lr: 0.000250  loss: 0.7918 (0.8351)  loss_classifier: 0.1803 (0.1964)  loss_box_reg: 0.1712 (0.1608)  loss_mask: 0.2451 (0.2500)  loss_objectness: 0.0440 (0.0464)  loss_rpn_box_reg: 0.1614 (0.1815)  time: 1.0005  data: 0.5010  max mem: 4444\n",
      "Epoch: [6]  [15/23]  eta: 0:00:06  lr: 0.000250  loss: 0.7712 (0.8250)  loss_classifier: 0.1822 (0.1948)  loss_box_reg: 0.1383 (0.1559)  loss_mask: 0.2466 (0.2504)  loss_objectness: 0.0385 (0.0431)  loss_rpn_box_reg: 0.1588 (0.1807)  time: 0.8667  data: 0.3780  max mem: 4444\n",
      "Epoch: [6]  [20/23]  eta: 0:00:03  lr: 0.000250  loss: 0.7918 (0.8469)  loss_classifier: 0.1843 (0.1945)  loss_box_reg: 0.1532 (0.1607)  loss_mask: 0.2512 (0.2568)  loss_objectness: 0.0385 (0.0435)  loss_rpn_box_reg: 0.1643 (0.1915)  time: 0.9572  data: 0.4850  max mem: 4444\n",
      "Epoch: [6]  [22/23]  eta: 0:00:00  lr: 0.000250  loss: 0.7918 (0.8369)  loss_classifier: 0.1843 (0.1952)  loss_box_reg: 0.1532 (0.1591)  loss_mask: 0.2537 (0.2552)  loss_objectness: 0.0344 (0.0417)  loss_rpn_box_reg: 0.1643 (0.1858)  time: 0.9174  data: 0.4849  max mem: 4444\n",
      "Epoch: [6] Total time: 0:00:22 (0.9942 s / it)\n",
      "Epoch: [7]  [ 0/23]  eta: 0:02:28  lr: 0.000250  loss: 0.7520 (0.7520)  loss_classifier: 0.1606 (0.1606)  loss_box_reg: 0.1558 (0.1558)  loss_mask: 0.2398 (0.2398)  loss_objectness: 0.0492 (0.0492)  loss_rpn_box_reg: 0.1467 (0.1467)  time: 6.4647  data: 6.0747  max mem: 4444\n",
      "Epoch: [7]  [ 5/23]  eta: 0:00:32  lr: 0.000250  loss: 0.7520 (0.8826)  loss_classifier: 0.1791 (0.2064)  loss_box_reg: 0.1558 (0.1733)  loss_mask: 0.2526 (0.2613)  loss_objectness: 0.0410 (0.0455)  loss_rpn_box_reg: 0.1434 (0.1961)  time: 1.8262  data: 1.4225  max mem: 4444\n",
      "Epoch: [7]  [10/23]  eta: 0:00:17  lr: 0.000250  loss: 0.8825 (0.8879)  loss_classifier: 0.1791 (0.1952)  loss_box_reg: 0.1633 (0.1678)  loss_mask: 0.2526 (0.2567)  loss_objectness: 0.0520 (0.0514)  loss_rpn_box_reg: 0.2235 (0.2167)  time: 1.3559  data: 0.8985  max mem: 4444\n",
      "Epoch: [7]  [15/23]  eta: 0:00:11  lr: 0.000250  loss: 0.7520 (0.8103)  loss_classifier: 0.1694 (0.1804)  loss_box_reg: 0.1479 (0.1498)  loss_mask: 0.2459 (0.2468)  loss_objectness: 0.0410 (0.0431)  loss_rpn_box_reg: 0.1467 (0.1901)  time: 1.4752  data: 0.9605  max mem: 4444\n",
      "Epoch: [7]  [20/23]  eta: 0:00:03  lr: 0.000250  loss: 0.7582 (0.8188)  loss_classifier: 0.1719 (0.1854)  loss_box_reg: 0.1479 (0.1542)  loss_mask: 0.2486 (0.2514)  loss_objectness: 0.0366 (0.0406)  loss_rpn_box_reg: 0.1434 (0.1873)  time: 1.0332  data: 0.5230  max mem: 4444\n",
      "Epoch: [7]  [22/23]  eta: 0:00:01  lr: 0.000250  loss: 0.7838 (0.8316)  loss_classifier: 0.1719 (0.1853)  loss_box_reg: 0.1491 (0.1551)  loss_mask: 0.2486 (0.2529)  loss_objectness: 0.0410 (0.0445)  loss_rpn_box_reg: 0.1742 (0.1938)  time: 1.0482  data: 0.5223  max mem: 4444\n",
      "Epoch: [7] Total time: 0:00:28 (1.2311 s / it)\n",
      "Epoch: [8]  [ 0/23]  eta: 0:01:40  lr: 0.000250  loss: 0.7777 (0.7777)  loss_classifier: 0.1879 (0.1879)  loss_box_reg: 0.1102 (0.1102)  loss_mask: 0.2551 (0.2551)  loss_objectness: 0.0296 (0.0296)  loss_rpn_box_reg: 0.1949 (0.1949)  time: 4.3511  data: 3.9403  max mem: 4444\n",
      "Epoch: [8]  [ 5/23]  eta: 0:00:31  lr: 0.000250  loss: 0.7903 (0.8201)  loss_classifier: 0.1783 (0.1957)  loss_box_reg: 0.1494 (0.1541)  loss_mask: 0.2478 (0.2465)  loss_objectness: 0.0370 (0.0435)  loss_rpn_box_reg: 0.1949 (0.1804)  time: 1.7504  data: 1.2513  max mem: 4444\n"
     ]
    },
    {
     "ename": "KeyboardInterrupt",
     "evalue": "",
     "output_type": "error",
     "traceback": [
      "\u001b[0;31m---------------------------------------------------------------------------\u001b[0m",
      "\u001b[0;31mKeyboardInterrupt\u001b[0m                         Traceback (most recent call last)",
      "\u001b[0;32m<ipython-input-13-713b60cbb6cb>\u001b[0m in \u001b[0;36m<module>\u001b[0;34m\u001b[0m\n\u001b[0;32m----> 1\u001b[0;31m \u001b[0mmodel\u001b[0m\u001b[0;34m,\u001b[0m \u001b[0mtest_loader\u001b[0m\u001b[0;34m,\u001b[0m\u001b[0mtrain_loader\u001b[0m \u001b[0;34m=\u001b[0m \u001b[0mmain\u001b[0m\u001b[0;34m(\u001b[0m\u001b[0;34m)\u001b[0m\u001b[0;34m\u001b[0m\u001b[0;34m\u001b[0m\u001b[0m\n\u001b[0m",
      "\u001b[0;32m<ipython-input-12-92c7385e2a2a>\u001b[0m in \u001b[0;36mmain\u001b[0;34m()\u001b[0m\n\u001b[1;32m     44\u001b[0m     \u001b[0;32mfor\u001b[0m \u001b[0mepoch\u001b[0m \u001b[0;32min\u001b[0m \u001b[0mrange\u001b[0m\u001b[0;34m(\u001b[0m\u001b[0mnum_epochs\u001b[0m\u001b[0;34m)\u001b[0m\u001b[0;34m:\u001b[0m\u001b[0;34m\u001b[0m\u001b[0;34m\u001b[0m\u001b[0m\n\u001b[1;32m     45\u001b[0m         \u001b[0;31m# train for one epoch, printing every 10 iterations\u001b[0m\u001b[0;34m\u001b[0m\u001b[0;34m\u001b[0m\u001b[0;34m\u001b[0m\u001b[0m\n\u001b[0;32m---> 46\u001b[0;31m         \u001b[0mtrain_one_epoch\u001b[0m\u001b[0;34m(\u001b[0m\u001b[0mmodel\u001b[0m\u001b[0;34m,\u001b[0m \u001b[0moptimizer\u001b[0m\u001b[0;34m,\u001b[0m \u001b[0mdata_loader\u001b[0m\u001b[0;34m,\u001b[0m \u001b[0mdevice\u001b[0m\u001b[0;34m,\u001b[0m \u001b[0mepoch\u001b[0m\u001b[0;34m,\u001b[0m \u001b[0mprint_freq\u001b[0m\u001b[0;34m=\u001b[0m\u001b[0;36m5\u001b[0m\u001b[0;34m)\u001b[0m\u001b[0;34m\u001b[0m\u001b[0;34m\u001b[0m\u001b[0m\n\u001b[0m\u001b[1;32m     47\u001b[0m         \u001b[0;31m# update the learning rate\u001b[0m\u001b[0;34m\u001b[0m\u001b[0;34m\u001b[0m\u001b[0;34m\u001b[0m\u001b[0m\n\u001b[1;32m     48\u001b[0m         \u001b[0mlr_scheduler\u001b[0m\u001b[0;34m.\u001b[0m\u001b[0mstep\u001b[0m\u001b[0;34m(\u001b[0m\u001b[0;34m)\u001b[0m\u001b[0;34m\u001b[0m\u001b[0;34m\u001b[0m\u001b[0m\n",
      "\u001b[0;32m~/microscopic-segmentation/Training/mask_utils/engine.py\u001b[0m in \u001b[0;36mtrain_one_epoch\u001b[0;34m(model, optimizer, data_loader, device, epoch, print_freq)\u001b[0m\n\u001b[1;32m     26\u001b[0m             optimizer, warmup_iters, warmup_factor)\n\u001b[1;32m     27\u001b[0m \u001b[0;34m\u001b[0m\u001b[0m\n\u001b[0;32m---> 28\u001b[0;31m     \u001b[0;32mfor\u001b[0m \u001b[0mimages\u001b[0m\u001b[0;34m,\u001b[0m \u001b[0mtargets\u001b[0m \u001b[0;32min\u001b[0m \u001b[0mmetric_logger\u001b[0m\u001b[0;34m.\u001b[0m\u001b[0mlog_every\u001b[0m\u001b[0;34m(\u001b[0m\u001b[0mdata_loader\u001b[0m\u001b[0;34m,\u001b[0m \u001b[0mprint_freq\u001b[0m\u001b[0;34m,\u001b[0m \u001b[0mheader\u001b[0m\u001b[0;34m)\u001b[0m\u001b[0;34m:\u001b[0m\u001b[0;34m\u001b[0m\u001b[0;34m\u001b[0m\u001b[0m\n\u001b[0m\u001b[1;32m     29\u001b[0m         \u001b[0mimages\u001b[0m \u001b[0;34m=\u001b[0m \u001b[0mlist\u001b[0m\u001b[0;34m(\u001b[0m\u001b[0mimage\u001b[0m\u001b[0;34m.\u001b[0m\u001b[0mto\u001b[0m\u001b[0;34m(\u001b[0m\u001b[0mdevice\u001b[0m\u001b[0;34m)\u001b[0m \u001b[0;32mfor\u001b[0m \u001b[0mimage\u001b[0m \u001b[0;32min\u001b[0m \u001b[0mimages\u001b[0m\u001b[0;34m)\u001b[0m\u001b[0;34m\u001b[0m\u001b[0;34m\u001b[0m\u001b[0m\n\u001b[1;32m     30\u001b[0m         \u001b[0mtargets\u001b[0m \u001b[0;34m=\u001b[0m \u001b[0;34m[\u001b[0m\u001b[0;34m{\u001b[0m\u001b[0mk\u001b[0m\u001b[0;34m:\u001b[0m \u001b[0mv\u001b[0m\u001b[0;34m.\u001b[0m\u001b[0mto\u001b[0m\u001b[0;34m(\u001b[0m\u001b[0mdevice\u001b[0m\u001b[0;34m)\u001b[0m \u001b[0;32mfor\u001b[0m \u001b[0mk\u001b[0m\u001b[0;34m,\u001b[0m \u001b[0mv\u001b[0m \u001b[0;32min\u001b[0m \u001b[0mt\u001b[0m\u001b[0;34m.\u001b[0m\u001b[0mitems\u001b[0m\u001b[0;34m(\u001b[0m\u001b[0;34m)\u001b[0m\u001b[0;34m}\u001b[0m \u001b[0;32mfor\u001b[0m \u001b[0mt\u001b[0m \u001b[0;32min\u001b[0m \u001b[0mtargets\u001b[0m\u001b[0;34m]\u001b[0m\u001b[0;34m\u001b[0m\u001b[0;34m\u001b[0m\u001b[0m\n",
      "\u001b[0;32m~/microscopic-segmentation/Training/mask_utils/utils.py\u001b[0m in \u001b[0;36mlog_every\u001b[0;34m(self, iterable, print_freq, header)\u001b[0m\n\u001b[1;32m    213\u001b[0m             ])\n\u001b[1;32m    214\u001b[0m         \u001b[0mMB\u001b[0m \u001b[0;34m=\u001b[0m \u001b[0;36m1024.0\u001b[0m \u001b[0;34m*\u001b[0m \u001b[0;36m1024.0\u001b[0m\u001b[0;34m\u001b[0m\u001b[0;34m\u001b[0m\u001b[0m\n\u001b[0;32m--> 215\u001b[0;31m         \u001b[0;32mfor\u001b[0m \u001b[0mobj\u001b[0m \u001b[0;32min\u001b[0m \u001b[0miterable\u001b[0m\u001b[0;34m:\u001b[0m\u001b[0;34m\u001b[0m\u001b[0;34m\u001b[0m\u001b[0m\n\u001b[0m\u001b[1;32m    216\u001b[0m             \u001b[0mdata_time\u001b[0m\u001b[0;34m.\u001b[0m\u001b[0mupdate\u001b[0m\u001b[0;34m(\u001b[0m\u001b[0mtime\u001b[0m\u001b[0;34m.\u001b[0m\u001b[0mtime\u001b[0m\u001b[0;34m(\u001b[0m\u001b[0;34m)\u001b[0m \u001b[0;34m-\u001b[0m \u001b[0mend\u001b[0m\u001b[0;34m)\u001b[0m\u001b[0;34m\u001b[0m\u001b[0;34m\u001b[0m\u001b[0m\n\u001b[1;32m    217\u001b[0m             \u001b[0;32myield\u001b[0m \u001b[0mobj\u001b[0m\u001b[0;34m\u001b[0m\u001b[0;34m\u001b[0m\u001b[0m\n",
      "\u001b[0;32m~/miniconda3/lib/python3.7/site-packages/torch/utils/data/dataloader.py\u001b[0m in \u001b[0;36m__next__\u001b[0;34m(self)\u001b[0m\n\u001b[1;32m    802\u001b[0m \u001b[0;34m\u001b[0m\u001b[0m\n\u001b[1;32m    803\u001b[0m             \u001b[0;32massert\u001b[0m \u001b[0;32mnot\u001b[0m \u001b[0mself\u001b[0m\u001b[0;34m.\u001b[0m\u001b[0mshutdown\u001b[0m \u001b[0;32mand\u001b[0m \u001b[0mself\u001b[0m\u001b[0;34m.\u001b[0m\u001b[0mtasks_outstanding\u001b[0m \u001b[0;34m>\u001b[0m \u001b[0;36m0\u001b[0m\u001b[0;34m\u001b[0m\u001b[0;34m\u001b[0m\u001b[0m\n\u001b[0;32m--> 804\u001b[0;31m             \u001b[0midx\u001b[0m\u001b[0;34m,\u001b[0m \u001b[0mdata\u001b[0m \u001b[0;34m=\u001b[0m \u001b[0mself\u001b[0m\u001b[0;34m.\u001b[0m\u001b[0m_get_data\u001b[0m\u001b[0;34m(\u001b[0m\u001b[0;34m)\u001b[0m\u001b[0;34m\u001b[0m\u001b[0;34m\u001b[0m\u001b[0m\n\u001b[0m\u001b[1;32m    805\u001b[0m             \u001b[0mself\u001b[0m\u001b[0;34m.\u001b[0m\u001b[0mtasks_outstanding\u001b[0m \u001b[0;34m-=\u001b[0m \u001b[0;36m1\u001b[0m\u001b[0;34m\u001b[0m\u001b[0;34m\u001b[0m\u001b[0m\n\u001b[1;32m    806\u001b[0m \u001b[0;34m\u001b[0m\u001b[0m\n",
      "\u001b[0;32m~/miniconda3/lib/python3.7/site-packages/torch/utils/data/dataloader.py\u001b[0m in \u001b[0;36m_get_data\u001b[0;34m(self)\u001b[0m\n\u001b[1;32m    769\u001b[0m         \u001b[0;32melse\u001b[0m\u001b[0;34m:\u001b[0m\u001b[0;34m\u001b[0m\u001b[0;34m\u001b[0m\u001b[0m\n\u001b[1;32m    770\u001b[0m             \u001b[0;32mwhile\u001b[0m \u001b[0;32mTrue\u001b[0m\u001b[0;34m:\u001b[0m\u001b[0;34m\u001b[0m\u001b[0;34m\u001b[0m\u001b[0m\n\u001b[0;32m--> 771\u001b[0;31m                 \u001b[0msuccess\u001b[0m\u001b[0;34m,\u001b[0m \u001b[0mdata\u001b[0m \u001b[0;34m=\u001b[0m \u001b[0mself\u001b[0m\u001b[0;34m.\u001b[0m\u001b[0m_try_get_data\u001b[0m\u001b[0;34m(\u001b[0m\u001b[0;34m)\u001b[0m\u001b[0;34m\u001b[0m\u001b[0;34m\u001b[0m\u001b[0m\n\u001b[0m\u001b[1;32m    772\u001b[0m                 \u001b[0;32mif\u001b[0m \u001b[0msuccess\u001b[0m\u001b[0;34m:\u001b[0m\u001b[0;34m\u001b[0m\u001b[0;34m\u001b[0m\u001b[0m\n\u001b[1;32m    773\u001b[0m                     \u001b[0;32mreturn\u001b[0m \u001b[0mdata\u001b[0m\u001b[0;34m\u001b[0m\u001b[0;34m\u001b[0m\u001b[0m\n",
      "\u001b[0;32m~/miniconda3/lib/python3.7/site-packages/torch/utils/data/dataloader.py\u001b[0m in \u001b[0;36m_try_get_data\u001b[0;34m(self, timeout)\u001b[0m\n\u001b[1;32m    722\u001b[0m         \u001b[0;31m#   (bool: whether successfully get data, any: data if successful else None)\u001b[0m\u001b[0;34m\u001b[0m\u001b[0;34m\u001b[0m\u001b[0;34m\u001b[0m\u001b[0m\n\u001b[1;32m    723\u001b[0m         \u001b[0;32mtry\u001b[0m\u001b[0;34m:\u001b[0m\u001b[0;34m\u001b[0m\u001b[0;34m\u001b[0m\u001b[0m\n\u001b[0;32m--> 724\u001b[0;31m             \u001b[0mdata\u001b[0m \u001b[0;34m=\u001b[0m \u001b[0mself\u001b[0m\u001b[0;34m.\u001b[0m\u001b[0mdata_queue\u001b[0m\u001b[0;34m.\u001b[0m\u001b[0mget\u001b[0m\u001b[0;34m(\u001b[0m\u001b[0mtimeout\u001b[0m\u001b[0;34m=\u001b[0m\u001b[0mtimeout\u001b[0m\u001b[0;34m)\u001b[0m\u001b[0;34m\u001b[0m\u001b[0;34m\u001b[0m\u001b[0m\n\u001b[0m\u001b[1;32m    725\u001b[0m             \u001b[0;32mreturn\u001b[0m \u001b[0;34m(\u001b[0m\u001b[0;32mTrue\u001b[0m\u001b[0;34m,\u001b[0m \u001b[0mdata\u001b[0m\u001b[0;34m)\u001b[0m\u001b[0;34m\u001b[0m\u001b[0;34m\u001b[0m\u001b[0m\n\u001b[1;32m    726\u001b[0m         \u001b[0;32mexcept\u001b[0m \u001b[0mException\u001b[0m \u001b[0;32mas\u001b[0m \u001b[0me\u001b[0m\u001b[0;34m:\u001b[0m\u001b[0;34m\u001b[0m\u001b[0;34m\u001b[0m\u001b[0m\n",
      "\u001b[0;32m~/miniconda3/lib/python3.7/multiprocessing/queues.py\u001b[0m in \u001b[0;36mget\u001b[0;34m(self, block, timeout)\u001b[0m\n\u001b[1;32m    102\u001b[0m                 \u001b[0;32mif\u001b[0m \u001b[0mblock\u001b[0m\u001b[0;34m:\u001b[0m\u001b[0;34m\u001b[0m\u001b[0;34m\u001b[0m\u001b[0m\n\u001b[1;32m    103\u001b[0m                     \u001b[0mtimeout\u001b[0m \u001b[0;34m=\u001b[0m \u001b[0mdeadline\u001b[0m \u001b[0;34m-\u001b[0m \u001b[0mtime\u001b[0m\u001b[0;34m.\u001b[0m\u001b[0mmonotonic\u001b[0m\u001b[0;34m(\u001b[0m\u001b[0;34m)\u001b[0m\u001b[0;34m\u001b[0m\u001b[0;34m\u001b[0m\u001b[0m\n\u001b[0;32m--> 104\u001b[0;31m                     \u001b[0;32mif\u001b[0m \u001b[0;32mnot\u001b[0m \u001b[0mself\u001b[0m\u001b[0;34m.\u001b[0m\u001b[0m_poll\u001b[0m\u001b[0;34m(\u001b[0m\u001b[0mtimeout\u001b[0m\u001b[0;34m)\u001b[0m\u001b[0;34m:\u001b[0m\u001b[0;34m\u001b[0m\u001b[0;34m\u001b[0m\u001b[0m\n\u001b[0m\u001b[1;32m    105\u001b[0m                         \u001b[0;32mraise\u001b[0m \u001b[0mEmpty\u001b[0m\u001b[0;34m\u001b[0m\u001b[0;34m\u001b[0m\u001b[0m\n\u001b[1;32m    106\u001b[0m                 \u001b[0;32melif\u001b[0m \u001b[0;32mnot\u001b[0m \u001b[0mself\u001b[0m\u001b[0;34m.\u001b[0m\u001b[0m_poll\u001b[0m\u001b[0;34m(\u001b[0m\u001b[0;34m)\u001b[0m\u001b[0;34m:\u001b[0m\u001b[0;34m\u001b[0m\u001b[0;34m\u001b[0m\u001b[0m\n",
      "\u001b[0;32m~/miniconda3/lib/python3.7/multiprocessing/connection.py\u001b[0m in \u001b[0;36mpoll\u001b[0;34m(self, timeout)\u001b[0m\n\u001b[1;32m    255\u001b[0m         \u001b[0mself\u001b[0m\u001b[0;34m.\u001b[0m\u001b[0m_check_closed\u001b[0m\u001b[0;34m(\u001b[0m\u001b[0;34m)\u001b[0m\u001b[0;34m\u001b[0m\u001b[0;34m\u001b[0m\u001b[0m\n\u001b[1;32m    256\u001b[0m         \u001b[0mself\u001b[0m\u001b[0;34m.\u001b[0m\u001b[0m_check_readable\u001b[0m\u001b[0;34m(\u001b[0m\u001b[0;34m)\u001b[0m\u001b[0;34m\u001b[0m\u001b[0;34m\u001b[0m\u001b[0m\n\u001b[0;32m--> 257\u001b[0;31m         \u001b[0;32mreturn\u001b[0m \u001b[0mself\u001b[0m\u001b[0;34m.\u001b[0m\u001b[0m_poll\u001b[0m\u001b[0;34m(\u001b[0m\u001b[0mtimeout\u001b[0m\u001b[0;34m)\u001b[0m\u001b[0;34m\u001b[0m\u001b[0;34m\u001b[0m\u001b[0m\n\u001b[0m\u001b[1;32m    258\u001b[0m \u001b[0;34m\u001b[0m\u001b[0m\n\u001b[1;32m    259\u001b[0m     \u001b[0;32mdef\u001b[0m \u001b[0m__enter__\u001b[0m\u001b[0;34m(\u001b[0m\u001b[0mself\u001b[0m\u001b[0;34m)\u001b[0m\u001b[0;34m:\u001b[0m\u001b[0;34m\u001b[0m\u001b[0;34m\u001b[0m\u001b[0m\n",
      "\u001b[0;32m~/miniconda3/lib/python3.7/multiprocessing/connection.py\u001b[0m in \u001b[0;36m_poll\u001b[0;34m(self, timeout)\u001b[0m\n\u001b[1;32m    412\u001b[0m \u001b[0;34m\u001b[0m\u001b[0m\n\u001b[1;32m    413\u001b[0m     \u001b[0;32mdef\u001b[0m \u001b[0m_poll\u001b[0m\u001b[0;34m(\u001b[0m\u001b[0mself\u001b[0m\u001b[0;34m,\u001b[0m \u001b[0mtimeout\u001b[0m\u001b[0;34m)\u001b[0m\u001b[0;34m:\u001b[0m\u001b[0;34m\u001b[0m\u001b[0;34m\u001b[0m\u001b[0m\n\u001b[0;32m--> 414\u001b[0;31m         \u001b[0mr\u001b[0m \u001b[0;34m=\u001b[0m \u001b[0mwait\u001b[0m\u001b[0;34m(\u001b[0m\u001b[0;34m[\u001b[0m\u001b[0mself\u001b[0m\u001b[0;34m]\u001b[0m\u001b[0;34m,\u001b[0m \u001b[0mtimeout\u001b[0m\u001b[0;34m)\u001b[0m\u001b[0;34m\u001b[0m\u001b[0;34m\u001b[0m\u001b[0m\n\u001b[0m\u001b[1;32m    415\u001b[0m         \u001b[0;32mreturn\u001b[0m \u001b[0mbool\u001b[0m\u001b[0;34m(\u001b[0m\u001b[0mr\u001b[0m\u001b[0;34m)\u001b[0m\u001b[0;34m\u001b[0m\u001b[0;34m\u001b[0m\u001b[0m\n\u001b[1;32m    416\u001b[0m \u001b[0;34m\u001b[0m\u001b[0m\n",
      "\u001b[0;32m~/miniconda3/lib/python3.7/multiprocessing/connection.py\u001b[0m in \u001b[0;36mwait\u001b[0;34m(object_list, timeout)\u001b[0m\n\u001b[1;32m    918\u001b[0m \u001b[0;34m\u001b[0m\u001b[0m\n\u001b[1;32m    919\u001b[0m             \u001b[0;32mwhile\u001b[0m \u001b[0;32mTrue\u001b[0m\u001b[0;34m:\u001b[0m\u001b[0;34m\u001b[0m\u001b[0;34m\u001b[0m\u001b[0m\n\u001b[0;32m--> 920\u001b[0;31m                 \u001b[0mready\u001b[0m \u001b[0;34m=\u001b[0m \u001b[0mselector\u001b[0m\u001b[0;34m.\u001b[0m\u001b[0mselect\u001b[0m\u001b[0;34m(\u001b[0m\u001b[0mtimeout\u001b[0m\u001b[0;34m)\u001b[0m\u001b[0;34m\u001b[0m\u001b[0;34m\u001b[0m\u001b[0m\n\u001b[0m\u001b[1;32m    921\u001b[0m                 \u001b[0;32mif\u001b[0m \u001b[0mready\u001b[0m\u001b[0;34m:\u001b[0m\u001b[0;34m\u001b[0m\u001b[0;34m\u001b[0m\u001b[0m\n\u001b[1;32m    922\u001b[0m                     \u001b[0;32mreturn\u001b[0m \u001b[0;34m[\u001b[0m\u001b[0mkey\u001b[0m\u001b[0;34m.\u001b[0m\u001b[0mfileobj\u001b[0m \u001b[0;32mfor\u001b[0m \u001b[0;34m(\u001b[0m\u001b[0mkey\u001b[0m\u001b[0;34m,\u001b[0m \u001b[0mevents\u001b[0m\u001b[0;34m)\u001b[0m \u001b[0;32min\u001b[0m \u001b[0mready\u001b[0m\u001b[0;34m]\u001b[0m\u001b[0;34m\u001b[0m\u001b[0;34m\u001b[0m\u001b[0m\n",
      "\u001b[0;32m~/miniconda3/lib/python3.7/selectors.py\u001b[0m in \u001b[0;36mselect\u001b[0;34m(self, timeout)\u001b[0m\n\u001b[1;32m    413\u001b[0m         \u001b[0mready\u001b[0m \u001b[0;34m=\u001b[0m \u001b[0;34m[\u001b[0m\u001b[0;34m]\u001b[0m\u001b[0;34m\u001b[0m\u001b[0;34m\u001b[0m\u001b[0m\n\u001b[1;32m    414\u001b[0m         \u001b[0;32mtry\u001b[0m\u001b[0;34m:\u001b[0m\u001b[0;34m\u001b[0m\u001b[0;34m\u001b[0m\u001b[0m\n\u001b[0;32m--> 415\u001b[0;31m             \u001b[0mfd_event_list\u001b[0m \u001b[0;34m=\u001b[0m \u001b[0mself\u001b[0m\u001b[0;34m.\u001b[0m\u001b[0m_selector\u001b[0m\u001b[0;34m.\u001b[0m\u001b[0mpoll\u001b[0m\u001b[0;34m(\u001b[0m\u001b[0mtimeout\u001b[0m\u001b[0;34m)\u001b[0m\u001b[0;34m\u001b[0m\u001b[0;34m\u001b[0m\u001b[0m\n\u001b[0m\u001b[1;32m    416\u001b[0m         \u001b[0;32mexcept\u001b[0m \u001b[0mInterruptedError\u001b[0m\u001b[0;34m:\u001b[0m\u001b[0;34m\u001b[0m\u001b[0;34m\u001b[0m\u001b[0m\n\u001b[1;32m    417\u001b[0m             \u001b[0;32mreturn\u001b[0m \u001b[0mready\u001b[0m\u001b[0;34m\u001b[0m\u001b[0;34m\u001b[0m\u001b[0m\n",
      "\u001b[0;31mKeyboardInterrupt\u001b[0m: "
     ]
    }
   ],
   "source": [
    "model, test_loader,train_loader = main()"
   ]
  },
  {
   "cell_type": "code",
   "execution_count": 6,
   "metadata": {
    "scrolled": true
   },
   "outputs": [],
   "source": [
    "def visualize(image,scores, threshold = 0.001):\n",
    "    final_mask = np.zeros((image.shape[1],image.shape[2],3))\n",
    "    for channel in image:\n",
    "        channel[channel > threshold] = 1\n",
    "        channel[channel<=threshold]=0\n",
    "        final_mask[channel==1] = np.random.randint(1,255,size = 3).tolist()\n",
    "        final_mask[final_mask>255]=255\n",
    "    final_mask= final_mask.astype(\"uint8\")\n",
    "    plt.figure(figsize=(20,10))\n",
    "    plt.imshow(final_mask)\n",
    "    plt.show()\n",
    "    print (\"Final Shape:\",final_mask.shape)\n",
    "    return final_mask\n",
    "        \n",
    "        "
   ]
  },
  {
   "cell_type": "code",
   "execution_count": 7,
   "metadata": {
    "scrolled": false
   },
   "outputs": [
    {
     "name": "stdout",
     "output_type": "stream",
     "text": [
      "(73, 1022, 1024)\n"
     ]
    },
    {
     "data": {
      "image/png": "[encoded data removed]",
      "text/plain": [
       "<Figure size 1440x720 with 1 Axes>"
      ]
     },
     "metadata": {
      "needs_background": "light"
     },
     "output_type": "display_data"
    },
    {
     "name": "stdout",
     "output_type": "stream",
     "text": [
      "Final Shape: (1022, 1024, 3)\n",
      "max output instances  tensor(104, device='cuda:0')\n"
     ]
    },
    {
     "data": {
      "image/png": "[encoded data removed]",
      "text/plain": [
       "<Figure size 1440x720 with 1 Axes>"
      ]
     },
     "metadata": {
      "needs_background": "light"
     },
     "output_type": "display_data"
    },
    {
     "name": "stdout",
     "output_type": "stream",
     "text": [
      "Final Shape: (1022, 1024, 3)\n"
     ]
    },
    {
     "ename": "NameError",
     "evalue": "name 'img' is not defined",
     "output_type": "error",
     "traceback": [
      "\u001b[0;31m---------------------------------------------------------------------------\u001b[0m",
      "\u001b[0;31mNameError\u001b[0m                                 Traceback (most recent call last)",
      "\u001b[0;32m<ipython-input-7-93ddc910dada>\u001b[0m in \u001b[0;36m<module>\u001b[0;34m\u001b[0m\n\u001b[1;32m     18\u001b[0m     \u001b[0mmask\u001b[0m \u001b[0;34m=\u001b[0m \u001b[0mmask\u001b[0m\u001b[0;34m.\u001b[0m\u001b[0mcpu\u001b[0m\u001b[0;34m(\u001b[0m\u001b[0;34m)\u001b[0m\u001b[0;34m.\u001b[0m\u001b[0mdetach\u001b[0m\u001b[0;34m(\u001b[0m\u001b[0;34m)\u001b[0m\u001b[0;34m.\u001b[0m\u001b[0mnumpy\u001b[0m\u001b[0;34m(\u001b[0m\u001b[0;34m)\u001b[0m\u001b[0;34m\u001b[0m\u001b[0;34m\u001b[0m\u001b[0m\n\u001b[1;32m     19\u001b[0m     \u001b[0mpred\u001b[0m \u001b[0;34m=\u001b[0m \u001b[0mvisualize\u001b[0m\u001b[0;34m(\u001b[0m\u001b[0mmask\u001b[0m\u001b[0;34m,\u001b[0m\u001b[0mscores\u001b[0m\u001b[0;34m)\u001b[0m\u001b[0;34m\u001b[0m\u001b[0;34m\u001b[0m\u001b[0m\n\u001b[0;32m---> 20\u001b[0;31m     \u001b[0mprint\u001b[0m \u001b[0;34m(\u001b[0m\u001b[0mpred\u001b[0m\u001b[0;34m.\u001b[0m\u001b[0mshape\u001b[0m\u001b[0;34m,\u001b[0m\u001b[0mlab\u001b[0m\u001b[0;34m.\u001b[0m\u001b[0mshape\u001b[0m\u001b[0;34m,\u001b[0m\u001b[0mimg\u001b[0m\u001b[0;34m.\u001b[0m\u001b[0mshape\u001b[0m\u001b[0;34m)\u001b[0m\u001b[0;34m\u001b[0m\u001b[0;34m\u001b[0m\u001b[0m\n\u001b[0m\u001b[1;32m     21\u001b[0m     \u001b[0mprint\u001b[0m \u001b[0;34m(\u001b[0m\u001b[0;34m\"mask\"\u001b[0m\u001b[0;34m,\u001b[0m\u001b[0mmask\u001b[0m\u001b[0;34m.\u001b[0m\u001b[0mshape\u001b[0m\u001b[0;34m,\u001b[0m\u001b[0;34m\"\\n\\n\\n\\n\\n\"\u001b[0m\u001b[0;34m)\u001b[0m\u001b[0;34m\u001b[0m\u001b[0;34m\u001b[0m\u001b[0m\n\u001b[1;32m     22\u001b[0m \u001b[0;31m#     print(len(image))\u001b[0m\u001b[0;34m\u001b[0m\u001b[0;34m\u001b[0m\u001b[0;34m\u001b[0m\u001b[0m\n",
      "\u001b[0;31mNameError\u001b[0m: name 'img' is not defined"
     ]
    }
   ],
   "source": [
    "import matplotlib.pyplot as plt\n",
    "\n",
    "model.eval()\n",
    "i = 0\n",
    "for image,_ in test_loader:\n",
    "    image = list(img.to(\"cuda\") for img in image)\n",
    "     \n",
    "    print(_[0][\"masks\"].cpu().detach().numpy().shape)\n",
    "    target = _[0][\"masks\"].cpu().detach().numpy()\n",
    "    lab = visualize(_[0][\"masks\"].cpu().detach().numpy(),[1]*target.shape[0])\n",
    "    target = np.sum(_[0][\"masks\"].cpu().detach().numpy(),0)\n",
    "#     print (target.shape)\n",
    "    outputs = model(image)\n",
    "    scores =outputs[0][\"scores\"]\n",
    "#     print (outputs[0][\"masks\"].shape)\n",
    "    mask = outputs[0][\"masks\"].squeeze()\n",
    "    print (\"max output instances \",torch.sum(scores>0.001))\n",
    "    mask = mask.cpu().detach().numpy()\n",
    "    pred = visualize(mask,scores)\n",
    "    print (pred.shape,lab.shape,img.shape)\n",
    "    print (\"mask\",mask.shape,\"\\n\\n\\n\\n\\n\")\n",
    "#     print(len(image))\n",
    "    img = image[0].cpu().detach().numpy()\n",
    "    img = np.transpose(img,[1,2,0])\n",
    "    cv2.imwrite(str(i)+\"_raw.jpg\",(img*255).astype(\"uint8\"))\n",
    "    cv2.imwrite(str(i)+\"_label.jpg\",lab)\n",
    "    cv2.imwrite(str(i)+\"_prediction.jpg\",pred)\n",
    "    i+=1\n",
    "#     print (img.shape,\"shape\")\n",
    "#     plt.figure(figsize=(20,10))\n",
    "#     plt.imshow(mask)\n",
    "#     plt.show()\n",
    "   \n",
    "    \n",
    "     "
   ]
  },
  {
   "cell_type": "code",
   "execution_count": 16,
   "metadata": {
    "scrolled": true
   },
   "outputs": [
    {
     "data": {
      "image/png": "[encoded data removed]",
      "text/plain": [
       "<Figure size 432x288 with 1 Axes>"
      ]
     },
     "metadata": {
      "needs_background": "light"
     },
     "output_type": "display_data"
    }
   ],
   "source": [
    "import cv2\n",
    "import numpy as np\n",
    "import matplotlib.pyplot as plt\n",
    "im = cv2.imread(\"outputs/2_instances.png\",-1)\n",
    "im = im.astype(\"uint8\")\n",
    "plt.imshow(im)\n",
    "plt.show()"
   ]
  },
  {
   "cell_type": "code",
   "execution_count": null,
   "metadata": {
    "scrolled": true
   },
   "outputs": [],
   "source": []
  },
  {
   "cell_type": "code",
   "execution_count": null,
   "metadata": {
    "scrolled": true
   },
   "outputs": [],
   "source": []
  },
  {
   "cell_type": "code",
   "execution_count": null,
   "metadata": {
    "scrolled": true
   },
   "outputs": [],
   "source": []
  }
 ],
 "metadata": {
  "kernelspec": {
   "display_name": "Python 3",
   "language": "python",
   "name": "python3"
  },
  "language_info": {
   "codemirror_mode": {
    "name": "ipython",
    "version": 3
   },
   "file_extension": ".py",
   "mimetype": "text/x-python",
   "name": "python",
   "nbconvert_exporter": "python",
   "pygments_lexer": "ipython3",
   "version": "3.7.3"
  }
 },
 "nbformat": 4,
 "nbformat_minor": 2
}
